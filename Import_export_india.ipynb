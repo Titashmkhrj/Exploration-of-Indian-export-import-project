{
 "cells": [
  {
   "cell_type": "markdown",
   "metadata": {},
   "source": [
    "# Project Desription\n",
    "#### PROBLEM STATEMENT <i>(according to the data provider on Kaggle)</i>     \n",
    "\n",
    "\"To better understand the imports and exports by India and how it changed in 3 years. Import and export data available by principle commodity and country wise for 3 years from Apr'2014 to Mar'2017.\"\n",
    "\n",
    "#### GOAL OF THE PROJECT    \n",
    "\n",
    "We are required to model the trade between India and other countries, and do Hypothesis Testing on various exploratory questions and make efficient visualizations to convey the results of those testing results.  \n",
    "\n",
    "#### DATA SOURCE  \n",
    "* FROM Kaggle - https://www.kaggle.com/rajanand/import-and-export-by-india#PC_Import_2016_2017.csv"
   ]
  },
  {
   "cell_type": "markdown",
   "metadata": {},
   "source": [
    "**Okay so prima facie, lets import some of the libraries we will be needing for this project.**  \n",
    "(even if we are missing out on some library, we can always import it later on in the project.)"
   ]
  },
  {
   "cell_type": "code",
   "execution_count": 1,
   "metadata": {},
   "outputs": [],
   "source": [
    "import sys\n",
    "\n",
    "# library to handle vectorized data \n",
    "import numpy as np \n",
    "\n",
    "# library for data analsysis and man\n",
    "\n",
    "import pandas as pd \n",
    "# so that the output is not trunacated by pandas when we actually want to see it \n",
    "pd.set_option('display.max_columns', 1000)\n",
    "pd.set_option('display.max_rows', 100000)\n",
    "\n",
    "# for visualisations\n",
    "import seaborn as sns\n",
    "\n",
    "%matplotlib inline \n",
    "import matplotlib as mpl\n",
    "import matplotlib.pyplot as plt\n"
   ]
  },
  {
   "cell_type": "markdown",
   "metadata": {},
   "source": [
    "# Loading the data.\n",
    " **We have 6 datasets, 3 for import data and export data individually, for the years 2014-15, 2015-16 & 2016-17 respectively.**"
   ]
  },
  {
   "cell_type": "code",
   "execution_count": 3,
   "metadata": {},
   "outputs": [
    {
     "name": "stdout",
     "output_type": "stream",
     "text": [
      "The shapes of our data files are as follows : \n",
      "        \n",
      "import_2014_2015 : (9584, 7)\n",
      "        \n",
      "import_2015_2016 : (9717, 7)\n",
      "        \n",
      "import_2016_2017 : (9694, 7)\n",
      "        \n",
      "      \n"
     ]
    }
   ],
   "source": [
    "import_2014_2015 = pd.read_csv('PC_Import_2014_2015.csv') # imports data for 2014-15.\n",
    "import_2015_2016 = pd.read_csv('PC_Import_2015_2016.csv') # imports data for 2015-16.\n",
    "import_2016_2017 = pd.read_csv('PC_Import_2016_2017.csv') # imports data for 2016-17.\n",
    "\n",
    "print('''The shapes of our data files are as follows : \n",
    "        \\nimport_2014_2015 : {}\n",
    "        \\nimport_2015_2016 : {}\n",
    "        \\nimport_2016_2017 : {}\n",
    "        \n",
    "      '''.format(import_2014_2015.shape, \n",
    "                 import_2015_2016.shape,\n",
    "                 import_2016_2017.shape, \n",
    "                ))"
   ]
  },
  {
   "cell_type": "code",
   "execution_count": 4,
   "metadata": {},
   "outputs": [
    {
     "name": "stdout",
     "output_type": "stream",
     "text": [
      "The shapes of our data files are as follows : \n",
      "        \n",
      "export_2014_2015 : (20830, 7)\n",
      "        \n",
      "export_2015_2016 : (20771, 7)\n",
      "        \n",
      "export_2016_2017 : (20844, 7)\n",
      "        \n",
      "      \n"
     ]
    }
   ],
   "source": [
    "export_2014_2015 = pd.read_csv('PC_Export_2014_2015.csv') # exports data for 2014-15.\n",
    "export_2015_2016 = pd.read_csv('PC_Export_2015_2016.csv') # exports data for 2015-16.\n",
    "export_2016_2017 = pd.read_csv('PC_Export_2016_2017.csv') # exports data for 2016-17.\n",
    "\n",
    "print('''The shapes of our data files are as follows : \n",
    "        \\nexport_2014_2015 : {}\n",
    "        \\nexport_2015_2016 : {}\n",
    "        \\nexport_2016_2017 : {}\n",
    "        \n",
    "      '''.format(export_2014_2015.shape, \n",
    "                 export_2015_2016.shape,\n",
    "                 export_2016_2017.shape, \n",
    "                ))"
   ]
  },
  {
   "cell_type": "code",
   "execution_count": null,
   "metadata": {},
   "outputs": [],
   "source": []
  },
  {
   "cell_type": "code",
   "execution_count": null,
   "metadata": {},
   "outputs": [],
   "source": []
  },
  {
   "cell_type": "code",
   "execution_count": null,
   "metadata": {},
   "outputs": [],
   "source": []
  },
  {
   "cell_type": "code",
   "execution_count": null,
   "metadata": {},
   "outputs": [],
   "source": []
  },
  {
   "cell_type": "code",
   "execution_count": null,
   "metadata": {},
   "outputs": [],
   "source": []
  },
  {
   "cell_type": "code",
   "execution_count": null,
   "metadata": {},
   "outputs": [],
   "source": []
  },
  {
   "cell_type": "code",
   "execution_count": null,
   "metadata": {},
   "outputs": [],
   "source": []
  },
  {
   "cell_type": "code",
   "execution_count": null,
   "metadata": {},
   "outputs": [],
   "source": []
  }
 ],
 "metadata": {
  "kernelspec": {
   "display_name": "Python 3",
   "language": "python",
   "name": "python3"
  },
  "language_info": {
   "codemirror_mode": {
    "name": "ipython",
    "version": 3
   },
   "file_extension": ".py",
   "mimetype": "text/x-python",
   "name": "python",
   "nbconvert_exporter": "python",
   "pygments_lexer": "ipython3",
   "version": "3.7.0"
  }
 },
 "nbformat": 4,
 "nbformat_minor": 2
}
